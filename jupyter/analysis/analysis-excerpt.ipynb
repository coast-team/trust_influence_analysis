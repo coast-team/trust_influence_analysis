{
 "cells": [
  {
   "cell_type": "code",
   "execution_count": null,
   "metadata": {},
   "outputs": [],
   "source": []
  },
  {
   "cell_type": "code",
   "execution_count": null,
   "metadata": {},
   "outputs": [],
   "source": []
  },
  {
   "cell_type": "code",
   "execution_count": 12,
   "metadata": {},
   "outputs": [],
   "source": [
    "#Read data files into R\n",
    "setwd(\"/home/jovyan/work/analysis/\")\n",
    "\n",
    "source (\"./process_data-excerpt.R\")\n",
    "\n",
    "zTT <- readMultiXLS (\"./all_data\")\n",
    "SBJs <- processMultiSBJ (\"./all_data\")\n",
    "\n",
    "# Create my sending proportional\n",
    "zTT[2]$subjects$my_send_proportional <- ifelse(zTT[2]$subjects$Type == 0, zTT[2]$subjects$Contribution/10, ifelse(zTT[2]$subjects$PartnerDecision > 0, zTT[2]$subjects$Contribution/3/zTT[2]$subjects$PartnerDecision, -1))\n",
    "\n",
    "# add epsilon value to avoid the case 0/0\n",
    "# EPSILON = 0.001\n",
    "# zTT[2]$subjects$my_send_proportional <- ifelse(zTT[2]$subjects$Type == 0, zTT[2]$subjects$Contribution/10,  zTT[2]$subjects$Contribution/3/ (zTT[2]$subjects$PartnerDecision + EPSILON))\n",
    "\n",
    "zTT[2]$subjects$CurrGameProfit <- ifelse(zTT[2]$subjects$Type == 0, zTT[2]$subjects$PartnerDecision - zTT[2]$subjects$Contribution, zTT[2]$subjects$PartnerDecision*3 - zTT[2]$subjects$Contribution)\n",
    "\n",
    "# set some constants\n",
    "\n",
    "# Numbers of user of a group\n",
    "num_users = 6\n",
    "# Number of rounds each user play to each other\n",
    "average_rounds = 5\n",
    "# Number of games for each group \n",
    "num_games = 4\n",
    "# Number of rounds for each game (should be 25)\n",
    "num_rounds_per_game = (num_users - 1) * average_rounds \n",
    "# Number of rounds for each experiment (should be 100, because we have 4 games)\n",
    "num_rounds_per_exp = num_rounds_per_game * num_games\n",
    "# Number of experiments (it is 5 at the time of writing, \n",
    "# but can be increased if we organize more experiments)\n",
    "num_exp = nrow (zTT[1]$globals) / num_rounds_per_exp\n",
    "\n",
    "Type_names = c(\"SENDER\", \"RECEIVER\")\n",
    "SIMPLE_GAME_ORDERS =      c(3,2,4,1,2)\n",
    "ID_GAME_ORDERS =          c(1,4,1,2,3)\n",
    "SCORE_GAME_ORDERS =       c(2,1,3,4,4)\n",
    "COMBINE_GAME_ORDERS =     c(4,3,2,3,1)\n",
    "\n",
    "GAME_NAMES <- c(\"Simple GAME\", \"ID GAME\", \"Score GAME\", \"Combine GAME\")\n",
    "\n",
    "col_list <- c(\"red\",\"green\",\"blue\",\"black\",\"orange\",\"violet\")\n",
    "\n",
    "# first, create empty data frames to hold all the particular games\n",
    "simple_games <- zTT[2]$subjects[0,]\n",
    "id_games <- zTT[2]$subjects[0,]\n",
    "score_games <- zTT[2]$subjects[0,]\n",
    "combine_games <- zTT[2]$subjects[0,]\n",
    "\n",
    "# create dataframe for each game\n",
    "\n",
    "for (exp_id in 1:num_exp) {\n",
    "    first_round_of_exp_globals = (exp_id - 1) * num_rounds_per_exp + 1\n",
    "    last_round_of_exp_globals = exp_id * num_rounds_per_exp\n",
    "    globals_of_exp = zTT[1]$globals[first_round_of_exp_globals:last_round_of_exp_globals,]\n",
    "    \n",
    "    first_round_of_exp_subjects = (exp_id - 1) * num_rounds_per_exp * num_users + 1\n",
    "    last_round_of_exp_subjects = exp_id * num_rounds_per_exp * num_users\n",
    "    subjects_of_exp = zTT[2]$subjects[first_round_of_exp_subjects:last_round_of_exp_subjects,]\n",
    "    \n",
    "    SIMPLE_GAME_ORDER = globals_of_exp[1,]$SIMPLE_GAME\n",
    "    ID_GAME_ORDER = globals_of_exp[1,]$ID_GAME\n",
    "    SCORE_GAME_ORDER = globals_of_exp[1,]$SCORE_GAME\n",
    "    COMBINE_GAME_ORDER = globals_of_exp[1,]$COMBINE_GAME\n",
    "    \n",
    "    simple_games <- rbind(simple_games, subjects_of_exp[((SIMPLE_GAME_ORDER - 1) * \n",
    "        num_rounds_per_game * num_users + 1): \n",
    "        (SIMPLE_GAME_ORDER * num_rounds_per_game * num_users),])\n",
    "    id_games <- rbind(id_games, subjects_of_exp[((ID_GAME_ORDER - 1) * \n",
    "        num_rounds_per_game * num_users + 1): \n",
    "        (ID_GAME_ORDER * num_rounds_per_game * num_users),])\n",
    "    score_games <- rbind(score_games, subjects_of_exp[((SCORE_GAME_ORDER - 1) * \n",
    "        num_rounds_per_game * num_users + 1): \n",
    "        (SCORE_GAME_ORDER * num_rounds_per_game * num_users),])\n",
    "    combine_games <- rbind(combine_games, subjects_of_exp[((COMBINE_GAME_ORDER - 1) * \n",
    "        num_rounds_per_game * num_users + 1): \n",
    "        (COMBINE_GAME_ORDER * num_rounds_per_game * num_users),])\n",
    "}"
   ]
  },
  {
   "cell_type": "code",
   "execution_count": 167,
   "metadata": {},
   "outputs": [],
   "source": [
    "# plotGameMetrics <- function (game_simple, game_id, game_score, game_combine, metric_name) {\n",
    "#   means = c(mean(game_simple), mean (game_id), mean (game_score), mean (game_combine))\n",
    "#   std_errors = c(pop.sd(game_simple)/sqrt(length((game_simple))), \n",
    "#                  pop.sd(game_id)/sqrt(length((game_id))),\n",
    "#                  pop.sd(game_score)/sqrt(length((game_score))),\n",
    "#                  pop.sd(game_combine)/sqrt(length((game_combine))))\n",
    "#   show_trusts = c(1,1,2,2)\n",
    "#   plot (show_trusts, means, main = \"\", xlim = c(1,2.2), ylim = c(min(means) * 0.9, max(means) * 1.1), ylab = metric_name, xaxt = \"n\", xlab = \"\", cex.lab=1.5, cex.axis = 1)\n",
    "#   axis(1, at=1:2, labels= c(\"Without Trust\",\"With Trust\"), cex.lab=1.5, cex.axis=1.5)\n",
    "#   epsilon <- 0.02\n",
    "#   segments(show_trusts,means-std_errors,show_trusts,means+std_errors)\n",
    "#   segments(show_trusts-epsilon,means-std_errors,show_trusts+epsilon,means-std_errors)\n",
    "#   segments(show_trusts-epsilon,means+std_errors,show_trusts+epsilon,means+std_errors)\n",
    "#   segments(show_trusts[1], means[1], show_trusts[3], means[3], col = \"red\", lwd = 2)\n",
    "#   segments(show_trusts[2], means[2], show_trusts[4], means[4], col = \"blue\", lwd = 3, lty = 2)\n",
    "#   legend(1.5, max(means) * 0.7,\n",
    "#          c (\"With ID\", \"Without ID\"),\n",
    "#          lty = c(2,1),\n",
    "#          lwd = c(3,2),\n",
    "#          col = c(\"blue\",\"red\"),\n",
    "#          cex=1.5\n",
    "#   )\n",
    "# }"
   ]
  },
  {
   "cell_type": "code",
   "execution_count": 168,
   "metadata": {},
   "outputs": [],
   "source": [
    "# average sending proportion for sender by game  \n",
    "# plotGameMetrics (simple_games[simple_games$Type == 0 & simple_games$my_send_proportional >= 0,]$my_send_proportional, \n",
    "#                    id_games[id_games$Type == 0 & id_games$my_send_proportional >= 0,]$my_send_proportional, \n",
    "#                    score_games[score_games$Type == 0 & score_games$my_send_proportional >= 0,]$my_send_proportional, \n",
    "#                    combine_games[combine_games$Type == 0 & combine_games$my_send_proportional >= 0,]$my_send_proportional, \n",
    "#                    metric_name = \"Sending Proportion\")\n"
   ]
  },
  {
   "cell_type": "code",
   "execution_count": 169,
   "metadata": {},
   "outputs": [],
   "source": [
    "# average sending proportion for receiver by game  \n",
    "# plotGameMetrics (simple_games[simple_games$Type == 1 & simple_games$my_send_proportional >= 0,]$my_send_proportional, \n",
    "#                    id_games[id_games$Type == 1 & id_games$my_send_proportional >= 0,]$my_send_proportional, \n",
    "#                    score_games[score_games$Type == 1 & score_games$my_send_proportional >= 0,]$my_send_proportional, \n",
    "#                    combine_games[combine_games$Type == 1 & combine_games$my_send_proportional >= 0,]$my_send_proportional, \n",
    "#                    metric_name = \"Sending Proportion\")"
   ]
  },
  {
   "cell_type": "code",
   "execution_count": null,
   "metadata": {},
   "outputs": [],
   "source": []
  },
  {
   "cell_type": "code",
   "execution_count": 170,
   "metadata": {},
   "outputs": [],
   "source": [
    "library(ggplot2)"
   ]
  },
  {
   "cell_type": "code",
   "execution_count": 179,
   "metadata": {},
   "outputs": [],
   "source": [
    "#### average sending proportion for sender by game\n",
    "plotGameMetrics <- function (game_simple, game_id, game_score, game_combine, metric_name) {  \n",
    "  id_condition=c(\"without ID\", \"without ID\", \"withZ ID\", \"withZ ID\")\n",
    "  trust_condition=c(\"without Trust\", \"withZ Trust\", \"without Trust\", \"withZ Trust\") \n",
    "  avg_send_proportion=c(signif(mean(game_simple),3), \n",
    "                        signif(mean(game_score), 3), \n",
    "                        signif(mean(game_id), 3),\n",
    "                        signif(mean(game_combine), 3))\n",
    "  \n",
    "  # dirty hack to correctly order (alphabet order) facet_wrap - 'withZ ID' > 'without ID'\n",
    "  condition_labeller <- as_labeller(c('without ID' = \"without ID\", 'withZ ID' = \"with ID\"))\n",
    "    \n",
    "  data=data.frame(id_condition, trust_condition, avg_send_proportion)\n",
    "    \n",
    "  ggplot(data, aes(fill=trust_condition, y=avg_send_proportion, x=trust_condition)\n",
    "        ) + ylim(0,.6) + geom_bar(stat=\"identity\") + facet_wrap(~id_condition, labeller=condition_labeller) + xlab(\"\") + scale_x_discrete(labels=c(\"without Trust\" = \"without Trust\", \"withZ Trust\" = \"with Trust\"))+ ylab(metric_name) + theme_bw(base_size = 14) + theme(legend.position=\"none\", axis.title.y = element_text(face=\"bold\")) + scale_fill_grey(start=0.8, end=0.3) + geom_text(aes(label=avg_send_proportion), vjust=1.6, color=\"white\", fontface=\"bold\", size=4)\n",
    "}"
   ]
  },
  {
   "cell_type": "code",
   "execution_count": 180,
   "metadata": {},
   "outputs": [
    {
     "data": {
      "text/html": [
       "<strong>pdf:</strong> 3"
      ],
      "text/latex": [
       "\\textbf{pdf:} 3"
      ],
      "text/markdown": [
       "**pdf:** 3"
      ],
      "text/plain": [
       "pdf \n",
       "  3 "
      ]
     },
     "metadata": {},
     "output_type": "display_data"
    },
    {
     "data": {
      "text/html": [
       "<strong>png:</strong> 2"
      ],
      "text/latex": [
       "\\textbf{png:} 2"
      ],
      "text/markdown": [
       "**png:** 2"
      ],
      "text/plain": [
       "png \n",
       "  2 "
      ]
     },
     "metadata": {},
     "output_type": "display_data"
    },
    {
     "data": {
      "image/png": "[encoded data removed]",
      "text/plain": [
       "plot without title"
      ]
     },
     "metadata": {},
     "output_type": "display_data"
    }
   ],
   "source": [
    "# average sending proportion for sender by game  \n",
    "plotGameMetrics (simple_games[simple_games$Type == 0 & simple_games$my_send_proportional >= 0,]$my_send_proportional, \n",
    "                   id_games[id_games$Type == 0 & id_games$my_send_proportional >= 0,]$my_send_proportional, \n",
    "                   score_games[score_games$Type == 0 & score_games$my_send_proportional >= 0,]$my_send_proportional, \n",
    "                   combine_games[combine_games$Type == 0 & combine_games$my_send_proportional >= 0,]$my_send_proportional, \n",
    "                   metric_name = \"Average Sending Proportion\")\n",
    "dev.copy(pdf,\"./figures/sending_proportion_sender_by_game.pdf\", useDingbats=FALSE)\n",
    "dev.off()"
   ]
  },
  {
   "cell_type": "code",
   "execution_count": 174,
   "metadata": {},
   "outputs": [
    {
     "data": {
      "text/html": [
       "<strong>pdf:</strong> 3"
      ],
      "text/latex": [
       "\\textbf{pdf:} 3"
      ],
      "text/markdown": [
       "**pdf:** 3"
      ],
      "text/plain": [
       "pdf \n",
       "  3 "
      ]
     },
     "metadata": {},
     "output_type": "display_data"
    },
    {
     "data": {
      "text/html": [
       "<strong>png:</strong> 2"
      ],
      "text/latex": [
       "\\textbf{png:} 2"
      ],
      "text/markdown": [
       "**png:** 2"
      ],
      "text/plain": [
       "png \n",
       "  2 "
      ]
     },
     "metadata": {},
     "output_type": "display_data"
    },
    {
     "data": {
      "image/png": "[encoded data removed]",
      "text/plain": [
       "plot without title"
      ]
     },
     "metadata": {},
     "output_type": "display_data"
    }
   ],
   "source": [
    "# average sending proportion for receiver by game  \n",
    "plotGameMetrics (simple_games[simple_games$Type == 1 & simple_games$my_send_proportional >= 0,]$my_send_proportional, \n",
    "                   id_games[id_games$Type == 1 & id_games$my_send_proportional >= 0,]$my_send_proportional, \n",
    "                   score_games[score_games$Type == 1 & score_games$my_send_proportional >= 0,]$my_send_proportional, \n",
    "                   combine_games[combine_games$Type == 1 & combine_games$my_send_proportional >= 0,]$my_send_proportional, \n",
    "                   metric_name = \"Average Sending Proportion\")\n",
    "dev.copy(pdf,\"./figures/sending_proportion_receiver_by_game.pdf\", useDingbats=FALSE)\n",
    "dev.off()"
   ]
  }
 ],
 "metadata": {
  "kernelspec": {
   "display_name": "R",
   "language": "R",
   "name": "ir"
  },
  "language_info": {
   "codemirror_mode": "r",
   "file_extension": ".r",
   "mimetype": "text/x-r-source",
   "name": "R",
   "pygments_lexer": "r",
   "version": "3.5.1"
  }
 },
 "nbformat": 4,
 "nbformat_minor": 2
}
